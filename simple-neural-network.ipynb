{
 "cells": [
  {
   "cell_type": "markdown",
   "metadata": {},
   "source": [
    "# Simple Neural Network Assignment\n",
    "## Large Language Models\n",
    "\n",
    "Resources:\n",
    "\n",
    "1. https://pytorch.org/vision/stable/generated/torchvision.datasets.MNIST.html\n",
    "2. https://pytorch.org/tutorials/beginner/basics/quickstart_tutorial.html\n",
    "\n",
    "Create a Conda environment for installations:\n",
    "\n",
    "1. https://conda.io/projects/conda/en/latest/user-guide/tasks/manage-environments.html#activating-an-environment"
   ]
  },
  {
   "cell_type": "code",
   "execution_count": 16,
   "metadata": {},
   "outputs": [],
   "source": [
    "import torch\n",
    "from torch import nn\n",
    "from torch.utils.data import DataLoader\n",
    "from torchvision import datasets\n",
    "from torchvision.transforms import ToTensor\n",
    "\n",
    "# dataset import \n",
    "from torchvision.datasets import MNIST\n",
    "import torchvision.transforms as transforms"
   ]
  },
  {
   "cell_type": "markdown",
   "metadata": {},
   "source": [
    "### Download and Transform the Data"
   ]
  },
  {
   "cell_type": "code",
   "execution_count": 20,
   "metadata": {},
   "outputs": [],
   "source": [
    "# Define transformations for the training set, flip the images randomly, crop out and apply mean and std normalization\n",
    "transform = transforms.Compose([\n",
    "    transforms.ToTensor(),\n",
    "    transforms.Normalize((0.1307,), (0.3081,))\n",
    "])\n",
    "\n",
    "# Download and load the training data\n",
    "trainset = MNIST(root='./data', train=True, download=True, transform=transform)\n",
    "trainloader = torch.utils.data.DataLoader(trainset, batch_size=64, shuffle=True)\n",
    "\n",
    "# Download and load the test data\n",
    "testset = MNIST(root='./data', train=False, download=True, transform=transform)\n",
    "testloader = torch.utils.data.DataLoader(testset, batch_size=64, shuffle=False)"
   ]
  },
  {
   "cell_type": "markdown",
   "metadata": {},
   "source": [
    "### Definte the NN"
   ]
  },
  {
   "cell_type": "code",
   "execution_count": 11,
   "metadata": {},
   "outputs": [
    {
     "name": "stdout",
     "output_type": "stream",
     "text": [
      "Using mps device\n",
      "NeuralNetwork(\n",
      "  (flatten): Flatten(start_dim=1, end_dim=-1)\n",
      "  (linear_relu_stack): Sequential(\n",
      "    (0): Linear(in_features=784, out_features=512, bias=True)\n",
      "    (1): ReLU()\n",
      "    (2): Linear(in_features=512, out_features=512, bias=True)\n",
      "    (3): ReLU()\n",
      "    (4): Linear(in_features=512, out_features=10, bias=True)\n",
      "  )\n",
      ")\n"
     ]
    }
   ],
   "source": [
    "# Get cpu, gpu or mps device for training.\n",
    "device = (\n",
    "    \"cuda\"\n",
    "    if torch.cuda.is_available()\n",
    "    else \"mps\"\n",
    "    if torch.backends.mps.is_available()\n",
    "    else \"cpu\"\n",
    ")\n",
    "print(f\"Using {device} device\")\n",
    "\n",
    "# Define model\n",
    "class NeuralNetwork(nn.Module):\n",
    "    def __init__(self):\n",
    "        super().__init__()\n",
    "        self.flatten = nn.Flatten()\n",
    "        self.linear_relu_stack = nn.Sequential(\n",
    "            nn.Linear(28*28, 512),\n",
    "            nn.ReLU(),\n",
    "            nn.Linear(512, 512),\n",
    "            nn.ReLU(),\n",
    "            nn.Linear(512, 10)\n",
    "        )\n",
    "\n",
    "    def forward(self, x):\n",
    "        x = self.flatten(x)\n",
    "        logits = self.linear_relu_stack(x)\n",
    "        return logits\n",
    "\n",
    "model = NeuralNetwork().to(device)\n",
    "print(model)"
   ]
  },
  {
   "cell_type": "markdown",
   "metadata": {},
   "source": [
    "### Define Train and Test Procedures"
   ]
  },
  {
   "cell_type": "code",
   "execution_count": 12,
   "metadata": {},
   "outputs": [],
   "source": [
    "loss_fn = nn.CrossEntropyLoss()\n",
    "optimizer = torch.optim.SGD(model.parameters(), lr=1e-3)"
   ]
  },
  {
   "cell_type": "code",
   "execution_count": 13,
   "metadata": {},
   "outputs": [],
   "source": [
    "def train(dataloader, model, loss_fn, optimizer):\n",
    "    size = len(dataloader.dataset)\n",
    "    model.train()\n",
    "    for batch, (X, y) in enumerate(dataloader):\n",
    "        X, y = X.to(device), y.to(device)\n",
    "\n",
    "        # Compute prediction error\n",
    "        pred = model(X)\n",
    "        loss = loss_fn(pred, y)\n",
    "\n",
    "        # Backpropagation\n",
    "        loss.backward()\n",
    "        optimizer.step()\n",
    "        optimizer.zero_grad()\n",
    "\n",
    "        if batch % 100 == 0:\n",
    "            loss, current = loss.item(), (batch + 1) * len(X)\n",
    "            print(f\"loss: {loss:>7f}  [{current:>5d}/{size:>5d}]\")"
   ]
  },
  {
   "cell_type": "code",
   "execution_count": 14,
   "metadata": {},
   "outputs": [],
   "source": [
    "def test(dataloader, model, loss_fn):\n",
    "    size = len(dataloader.dataset)\n",
    "    num_batches = len(dataloader)\n",
    "    model.eval()\n",
    "    test_loss, correct = 0, 0\n",
    "    with torch.no_grad():\n",
    "        for X, y in dataloader:\n",
    "            X, y = X.to(device), y.to(device)\n",
    "            pred = model(X)\n",
    "            test_loss += loss_fn(pred, y).item()\n",
    "            correct += (pred.argmax(1) == y).type(torch.float).sum().item()\n",
    "    test_loss /= num_batches\n",
    "    correct /= size\n",
    "    print(f\"Test Error: \\n Accuracy: {(100*correct):>0.1f}%, Avg loss: {test_loss:>8f} \\n\")"
   ]
  },
  {
   "cell_type": "markdown",
   "metadata": {},
   "source": [
    "### Train using the MNIST Dataset"
   ]
  },
  {
   "cell_type": "code",
   "execution_count": 21,
   "metadata": {},
   "outputs": [
    {
     "name": "stdout",
     "output_type": "stream",
     "text": [
      "Epoch 1\n",
      "-------------------------------\n",
      "loss: 0.388608  [   64/60000]\n",
      "loss: 0.351339  [ 6464/60000]\n",
      "loss: 0.276522  [12864/60000]\n",
      "loss: 0.591416  [19264/60000]\n",
      "loss: 0.376442  [25664/60000]\n",
      "loss: 0.429799  [32064/60000]\n",
      "loss: 0.377038  [38464/60000]\n",
      "loss: 0.422995  [44864/60000]\n",
      "loss: 0.489741  [51264/60000]\n",
      "loss: 0.554684  [57664/60000]\n",
      "Test Error: \n",
      " Accuracy: 88.9%, Avg loss: 0.409299 \n",
      "\n",
      "Epoch 2\n",
      "-------------------------------\n",
      "loss: 0.492134  [   64/60000]\n",
      "loss: 0.308400  [ 6464/60000]\n",
      "loss: 0.552904  [12864/60000]\n",
      "loss: 0.281313  [19264/60000]\n",
      "loss: 0.319501  [25664/60000]\n",
      "loss: 0.393553  [32064/60000]\n",
      "loss: 0.437990  [38464/60000]\n",
      "loss: 0.445481  [44864/60000]\n",
      "loss: 0.490780  [51264/60000]\n",
      "loss: 0.333147  [57664/60000]\n",
      "Test Error: \n",
      " Accuracy: 89.4%, Avg loss: 0.381104 \n",
      "\n",
      "Epoch 3\n",
      "-------------------------------\n",
      "loss: 0.476674  [   64/60000]\n",
      "loss: 0.369592  [ 6464/60000]\n",
      "loss: 0.598428  [12864/60000]\n",
      "loss: 0.459573  [19264/60000]\n",
      "loss: 0.195318  [25664/60000]\n",
      "loss: 0.354528  [32064/60000]\n",
      "loss: 0.436818  [38464/60000]\n",
      "loss: 0.358071  [44864/60000]\n",
      "loss: 0.221623  [51264/60000]\n",
      "loss: 0.534853  [57664/60000]\n",
      "Test Error: \n",
      " Accuracy: 90.0%, Avg loss: 0.359712 \n",
      "\n",
      "Epoch 4\n",
      "-------------------------------\n",
      "loss: 0.509330  [   64/60000]\n",
      "loss: 0.341029  [ 6464/60000]\n",
      "loss: 0.463316  [12864/60000]\n",
      "loss: 0.555138  [19264/60000]\n",
      "loss: 0.247739  [25664/60000]\n",
      "loss: 0.483323  [32064/60000]\n",
      "loss: 0.392434  [38464/60000]\n",
      "loss: 0.306162  [44864/60000]\n",
      "loss: 0.416098  [51264/60000]\n",
      "loss: 0.287119  [57664/60000]\n",
      "Test Error: \n",
      " Accuracy: 90.3%, Avg loss: 0.343104 \n",
      "\n",
      "Epoch 5\n",
      "-------------------------------\n",
      "loss: 0.274442  [   64/60000]\n",
      "loss: 0.225945  [ 6464/60000]\n",
      "loss: 0.320001  [12864/60000]\n",
      "loss: 0.323850  [19264/60000]\n",
      "loss: 0.395779  [25664/60000]\n",
      "loss: 0.380246  [32064/60000]\n",
      "loss: 0.164667  [38464/60000]\n",
      "loss: 0.280105  [44864/60000]\n",
      "loss: 0.476290  [51264/60000]\n",
      "loss: 0.521609  [57664/60000]\n",
      "Test Error: \n",
      " Accuracy: 90.6%, Avg loss: 0.330192 \n",
      "\n",
      "Done!\n"
     ]
    }
   ],
   "source": [
    "epochs = 5\n",
    "for t in range(epochs):\n",
    "    print(f\"Epoch {t+1}\\n-------------------------------\")\n",
    "    train(trainloader, model, loss_fn, optimizer)\n",
    "    test(trainloader, model, loss_fn)\n",
    "print(\"Done!\")"
   ]
  },
  {
   "cell_type": "code",
   "execution_count": null,
   "metadata": {},
   "outputs": [],
   "source": []
  }
 ],
 "metadata": {
  "kernelspec": {
   "display_name": "Python 3.12.2 ('torch_env')",
   "language": "python",
   "name": "python3"
  },
  "language_info": {
   "codemirror_mode": {
    "name": "ipython",
    "version": 3
   },
   "file_extension": ".py",
   "mimetype": "text/x-python",
   "name": "python",
   "nbconvert_exporter": "python",
   "pygments_lexer": "ipython3",
   "version": "3.12.2"
  },
  "orig_nbformat": 4,
  "vscode": {
   "interpreter": {
    "hash": "8fcfaa20b4f561a04a1839b9c23c1b16011c32f2ed335397b16c84b85ba4fc6c"
   }
  }
 },
 "nbformat": 4,
 "nbformat_minor": 2
}
